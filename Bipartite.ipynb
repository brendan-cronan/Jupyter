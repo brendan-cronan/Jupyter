{
 "cells": [
  {
   "cell_type": "code",
   "execution_count": 71,
   "metadata": {},
   "outputs": [],
   "source": [
    "def power(list):\n",
    "    pwr_set = [] #initialize the list to return\n",
    "    pwr_set.append([]) #Add the empty set\n",
    "    \n",
    "    index = 0 #keeps track of the current index.\n",
    "    for i in list:\n",
    "        pwr_set.append([i]) #append the current vertex\n",
    "        for j in list[index+1:]: #get the rest of the vertices\n",
    "            pwr_set.append([i,j]) #append the pair of vertices\n",
    "            pass\n",
    "            \n",
    "            pwr_set.append(list[index:index+1]) #do this one\n",
    "            \n",
    "            \n",
    "        index+=1 #next number\n",
    "        \n",
    "        \n",
    "    return pwr_set\n",
    "        "
   ]
  },
  {
   "cell_type": "code",
   "execution_count": 70,
   "metadata": {},
   "outputs": [
    {
     "data": {
      "text/plain": [
       "[[],\n",
       " ['A'],\n",
       " ['A', 'B'],\n",
       " ['A', 'B', 'C', 'D'],\n",
       " ['A', 'C'],\n",
       " ['A', 'B', 'C', 'D'],\n",
       " ['A', 'D'],\n",
       " ['A', 'B', 'C', 'D'],\n",
       " ['B'],\n",
       " ['B', 'C'],\n",
       " ['B', 'C', 'D'],\n",
       " ['B', 'D'],\n",
       " ['B', 'C', 'D'],\n",
       " ['C'],\n",
       " ['C', 'D'],\n",
       " ['C', 'D'],\n",
       " ['D']]"
      ]
     },
     "execution_count": 70,
     "metadata": {},
     "output_type": "execute_result"
    }
   ],
   "source": [
    "power(['A','B','C','D'])"
   ]
  },
  {
   "cell_type": "code",
   "execution_count": null,
   "metadata": {},
   "outputs": [],
   "source": []
  },
  {
   "cell_type": "code",
   "execution_count": null,
   "metadata": {},
   "outputs": [],
   "source": []
  }
 ],
 "metadata": {
  "kernelspec": {
   "display_name": "Python 3",
   "language": "python",
   "name": "python3"
  },
  "language_info": {
   "codemirror_mode": {
    "name": "ipython",
    "version": 3
   },
   "file_extension": ".py",
   "mimetype": "text/x-python",
   "name": "python",
   "nbconvert_exporter": "python",
   "pygments_lexer": "ipython3",
   "version": "3.6.4"
  }
 },
 "nbformat": 4,
 "nbformat_minor": 2
}
